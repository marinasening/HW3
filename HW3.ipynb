{
 "cells": [
  {
   "cell_type": "code",
   "execution_count": 4,
   "metadata": {},
   "outputs": [
    {
     "data": {
      "text/plain": [
       "[{'visit1': ['Москва', 'Россия']},\n",
       " {'visit3': ['Владисмир', 'Россия']},\n",
       " {'visit7': ['Тула', 'Россия']},\n",
       " {'visit9': ['Курск', 'Россия']},\n",
       " {'visit10': ['Архангельск', 'Россия']}]"
      ]
     },
     "execution_count": 4,
     "metadata": {},
     "output_type": "execute_result"
    }
   ],
   "source": [
    "geo_logs = [\n",
    "    {'visit1': ['Москва', 'Россия']},\n",
    "    {'visit2': ['Дели', 'Индия']},\n",
    "    {'visit3': ['Владисмир','Россия']},\n",
    "    {'visit4': ['Лиссабон', 'Португалия']},\n",
    "    {'visit5': ['Париж', 'Франция']},\n",
    "    {'visit7': ['Тула', 'Россия']},\n",
    "    {'visit9': ['Курск', 'Россия']},\n",
    "    {'visit10': ['Архангельск', 'Россия']}\n",
    "]\n",
    "result = []\n",
    "for log in geo_logs:\n",
    "    if list(log.values())[0][1] == 'Россия':\n",
    "        result.append(log)\n",
    "result"
   ]
  },
  {
   "cell_type": "code",
   "execution_count": 5,
   "metadata": {},
   "outputs": [
    {
     "data": {
      "text/plain": [
       "[{'visit1': ['Москва', 'Россия']},\n",
       " {'visit3': ['Владисмир', 'Россия']},\n",
       " {'visit7': ['Тула', 'Россия']},\n",
       " {'visit9': ['Курск', 'Россия']},\n",
       " {'visit10': ['Архангельск', 'Россия']}]"
      ]
     },
     "execution_count": 5,
     "metadata": {},
     "output_type": "execute_result"
    }
   ],
   "source": [
    "geo_logs_2 = geo_logs.copy()   #сделали копию, чтобы не менять исходный список\n",
    "for log in geo_logs_2:\n",
    "    if list(log.values())[0][1] != 'Россия':  #удаляем все значения, которые не содержат 'Россия'\n",
    "        geo_logs.remove(log)\n",
    "geo_logs"
   ]
  },
  {
   "cell_type": "code",
   "execution_count": 6,
   "metadata": {},
   "outputs": [
    {
     "data": {
      "text/plain": [
       "[{'visit1': ['Москва', 'Россия']},\n",
       " {'visit3': ['Владисмир', 'Россия']},\n",
       " {'visit7': ['Тула', 'Россия']},\n",
       " {'visit9': ['Курск', 'Россия']},\n",
       " {'visit10': ['Архангельск', 'Россия']}]"
      ]
     },
     "execution_count": 6,
     "metadata": {},
     "output_type": "execute_result"
    }
   ],
   "source": [
    "list(filter(lambda log: 'Россия' == list(log.values())[0][1], geo_logs))"
   ]
  },
  {
   "cell_type": "code",
   "execution_count": 14,
   "metadata": {},
   "outputs": [
    {
     "name": "stdout",
     "output_type": "stream",
     "text": [
      "весь: 1\n",
      "мой: 1\n",
      "рэп: 1\n",
      "если: 1\n",
      "коротко: 1\n",
      "про: 1\n",
      "то: 2\n",
      "что: 1\n",
      "уж: 1\n",
      "который: 2\n",
      "год: 1\n",
      "город: 5\n",
      "под: 7\n",
      "подошвой: 5\n",
      "в: 1\n",
      "гору: 2\n",
      "когда: 2\n",
      "прёт: 1\n",
      "потом: 1\n",
      "тошно: 1\n",
      "я: 2\n",
      "не: 2\n",
      "чтоб: 1\n",
      "гулливер: 1\n",
      "но: 1\n",
      "всё: 1\n",
      "же: 1\n",
      "светофоры: 1\n",
      "госпошлины: 1\n",
      "сборы: 1\n",
      "и: 1\n",
      "таможни: 1\n",
      "знаю: 1\n",
      "вброд: 1\n",
      "или: 1\n",
      "на: 1\n",
      "дно: 1\n",
      "эта: 1\n",
      "дорожка: 1\n",
      "ты: 1\n",
      "живёшь: 1\n",
      "каблуком: 1\n",
      "у: 1\n",
      "меня: 1\n"
     ]
    }
   ],
   "source": [
    "some_oxy_text = '''\n",
    "Весь мой рэп, если коротко, про то, что\n",
    "Уж который год который город под подошвой\n",
    "В гору, когда прёт, потом под гору, когда тошно\n",
    "Я не то, чтоб Гулливер, но всё же город под подошвой\n",
    "Город под подошвой, город под подошвой\n",
    "Светофоры, госпошлины, сборы и таможни\n",
    "Я не знаю, вброд или на дно эта дорожка\n",
    "Ты живёшь под каблуком, у меня город под подошвой\n",
    "'''\n",
    "res = {}\n",
    "some_splitted_oxy_text = some_oxy_text.lower().replace(',', '').split()\n",
    "\n",
    "for word in some_splitted_oxy_text:\n",
    "    if word not in res:\n",
    "        res[word] = 1\n",
    "    else:\n",
    "        res[word] += 1\n",
    "\n",
    "for w, count in res.items():\n",
    "    print(f'{w}: {count}')"
   ]
  },
  {
   "cell_type": "code",
   "execution_count": 10,
   "metadata": {},
   "outputs": [
    {
     "ename": "TypeError",
     "evalue": "'builtin_function_or_method' object is not iterable",
     "output_type": "error",
     "traceback": [
      "\u001b[1;31m---------------------------------------------------------------------------\u001b[0m",
      "\u001b[1;31mTypeError\u001b[0m                                 Traceback (most recent call last)",
      "\u001b[1;32m<ipython-input-10-a974cfe79df2>\u001b[0m in \u001b[0;36m<module>\u001b[1;34m\u001b[0m\n\u001b[0;32m      1\u001b[0m \u001b[0mres\u001b[0m \u001b[1;33m=\u001b[0m \u001b[1;33m{\u001b[0m\u001b[1;33m}\u001b[0m\u001b[1;33m\u001b[0m\u001b[1;33m\u001b[0m\u001b[0m\n\u001b[0;32m      2\u001b[0m \u001b[0msome_splitted_oxy_text\u001b[0m \u001b[1;33m=\u001b[0m \u001b[0msome_oxy_text\u001b[0m\u001b[1;33m.\u001b[0m\u001b[0mlower\u001b[0m\u001b[1;33m(\u001b[0m\u001b[1;33m)\u001b[0m\u001b[1;33m.\u001b[0m\u001b[0mreplace\u001b[0m\u001b[1;33m(\u001b[0m\u001b[1;34m','\u001b[0m\u001b[1;33m,\u001b[0m \u001b[1;34m''\u001b[0m\u001b[1;33m)\u001b[0m\u001b[1;33m.\u001b[0m\u001b[0msplit\u001b[0m\u001b[1;33m\u001b[0m\u001b[1;33m\u001b[0m\u001b[0m\n\u001b[1;32m----> 3\u001b[1;33m \u001b[1;32mfor\u001b[0m \u001b[0mword\u001b[0m \u001b[1;32min\u001b[0m \u001b[0msome_splitted_oxy_text\u001b[0m\u001b[1;33m:\u001b[0m\u001b[1;33m\u001b[0m\u001b[1;33m\u001b[0m\u001b[0m\n\u001b[0m\u001b[0;32m      4\u001b[0m     \u001b[1;32mif\u001b[0m \u001b[0mword\u001b[0m \u001b[1;32mnot\u001b[0m \u001b[1;32min\u001b[0m \u001b[0mres\u001b[0m\u001b[1;33m:\u001b[0m\u001b[1;33m\u001b[0m\u001b[1;33m\u001b[0m\u001b[0m\n\u001b[0;32m      5\u001b[0m         \u001b[0mres\u001b[0m\u001b[1;33m[\u001b[0m\u001b[0mword\u001b[0m\u001b[1;33m]\u001b[0m \u001b[1;33m=\u001b[0m \u001b[1;36m1\u001b[0m\u001b[1;33m\u001b[0m\u001b[1;33m\u001b[0m\u001b[0m\n",
      "\u001b[1;31mTypeError\u001b[0m: 'builtin_function_or_method' object is not iterable"
     ]
    }
   ],
   "source": [
    "res = {}\n",
    "some_splitted_oxy_text = some_oxy_text.lower().replace(',', '').split\n",
    "for word in some_splitted_oxy_text:\n",
    "    if word not in res:\n",
    "        res[word] = 1\n",
    "    else:\n",
    "        res[word] += 1\n",
    "for w, count in res.items():\n",
    "    print(f'{w}: {count}')"
   ]
  },
  {
   "cell_type": "code",
   "execution_count": null,
   "metadata": {},
   "outputs": [],
   "source": []
  }
 ],
 "metadata": {
  "kernelspec": {
   "display_name": "Python 3",
   "language": "python",
   "name": "python3"
  },
  "language_info": {
   "codemirror_mode": {
    "name": "ipython",
    "version": 3
   },
   "file_extension": ".py",
   "mimetype": "text/x-python",
   "name": "python",
   "nbconvert_exporter": "python",
   "pygments_lexer": "ipython3",
   "version": "3.8.5"
  }
 },
 "nbformat": 4,
 "nbformat_minor": 4
}
