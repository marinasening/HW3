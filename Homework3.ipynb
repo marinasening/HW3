{
 "cells": [
  {
   "cell_type": "code",
   "execution_count": 342,
   "metadata": {},
   "outputs": [
    {
     "data": {
      "text/plain": [
       "{15, 35, 54, 98, 119, 213}"
      ]
     },
     "execution_count": 342,
     "metadata": {},
     "output_type": "execute_result"
    }
   ],
   "source": [
    "#Задание 1\n",
    "\n",
    "ids = {'user1': [213, 213, 213, 15, 213], \n",
    "       'user2': [54, 54, 119, 119, 119], \n",
    "       'user3': [213, 98, 98, 35]}\n",
    "geo = list(ids.values())\n",
    "geo1 = set()\n",
    "for i in geo:\n",
    "    geo1.update(i)\n",
    "geo1"
   ]
  },
  {
   "cell_type": "code",
   "execution_count": 32,
   "metadata": {},
   "outputs": [
    {
     "name": "stdout",
     "output_type": "stream",
     "text": [
      "Число запросов, содержащих 3 слов(а): 42.86%\n",
      "Число запросов, содержащих 2 слов(а): 28.57%\n"
     ]
    }
   ],
   "source": [
    "#Задание 2\n",
    "\n",
    "queries = [                            \n",
    "    'смотреть сериалы онлайн',     \n",
    "    'новости спорта',\n",
    "    'афиша кино',\n",
    "    'курс доллара',\n",
    "    'сериалы этим летом',\n",
    "    'курс по питону',\n",
    "    'сериалы про спорт',\n",
    "]\n",
    "dict_queries = {}\n",
    "\n",
    "for words in queries:\n",
    "    el = len(words.split())\n",
    "    \n",
    "    if el in dict_queries.keys():\n",
    "        dict_queries[el] += 1\n",
    "    else:\n",
    "        dict_queries[el] = 0\n",
    "\n",
    "for k, value in dict_queries.items():\n",
    "    percent = round((value/len(queries)) * 100, 2)\n",
    "    print(f'Число запросов, содержащих {value} слов(а): {percent}%')"
   ]
  },
  {
   "cell_type": "code",
   "execution_count": 180,
   "metadata": {},
   "outputs": [
    {
     "data": {
      "text/plain": [
       "{'adwords': {'revenue': 35, 'cost': 34, 'ROI': 2.94},\n",
       " 'facebook': {'revenue': 103, 'cost': 110, 'ROI': -6.36},\n",
       " 'twitter': {'revenue': 11, 'cost': 24, 'ROI': -54.17},\n",
       " 'vk': {'revenue': 103, 'cost': 98, 'ROI': 5.1},\n",
       " 'yandex': {'revenue': 179, 'cost': 153, 'ROI': 16.99}}"
      ]
     },
     "execution_count": 180,
     "metadata": {},
     "output_type": "execute_result"
    }
   ],
   "source": [
    "#Задание 3\n",
    "\n",
    "results = {\n",
    "    'vk': {'revenue': 103, 'cost': 98},\n",
    "    'yandex': {'revenue': 179, 'cost': 153},\n",
    "    'facebook': {'revenue': 103, 'cost': 110},\n",
    "    'adwords': {'revenue': 35, 'cost': 34},\n",
    "    'twitter': {'revenue': 11, 'cost': 24},\n",
    "}\n",
    "for i in list(results.values()):\n",
    "    i['ROI'] = round((i['revenue'] / i['cost'] - 1) * 100, 2)\n",
    "from pprint import pprint\n",
    "(dict(sorted(dict.items(results))))"
   ]
  },
  {
   "cell_type": "code",
   "execution_count": 293,
   "metadata": {},
   "outputs": [
    {
     "name": "stdout",
     "output_type": "stream",
     "text": [
      "Максимальный объем продаж на рекламном канале: vk\n"
     ]
    }
   ],
   "source": [
    "#Задание 4\n",
    "\n",
    "stats = {'facebook': 55, 'yandex': 115, 'vk': 120, 'google': 99, 'email': 42, 'ok': 98}\n",
    "max_stat = 0\n",
    "for name, value in stats.items():\n",
    "    if not max_stat or value > max_stat[1]:\n",
    "        max_stat = (name, value)\n",
    "print(f'Максимальный объем продаж на рекламном канале: {max_stat[0]}')"
   ]
  }
 ],
 "metadata": {
  "kernelspec": {
   "display_name": "Python 3",
   "language": "python",
   "name": "python3"
  },
  "language_info": {
   "codemirror_mode": {
    "name": "ipython",
    "version": 3
   },
   "file_extension": ".py",
   "mimetype": "text/x-python",
   "name": "python",
   "nbconvert_exporter": "python",
   "pygments_lexer": "ipython3",
   "version": "3.8.5"
  }
 },
 "nbformat": 4,
 "nbformat_minor": 4
}
